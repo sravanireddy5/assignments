{
 "cells": [
  {
   "cell_type": "markdown",
   "metadata": {},
   "source": [
    "# pattern1"
   ]
  },
  {
   "cell_type": "code",
   "execution_count": 4,
   "metadata": {},
   "outputs": [
    {
     "name": "stdout",
     "output_type": "stream",
     "text": [
      "1 \n",
      "2 2 \n",
      "3 3 3 \n",
      "4 4 4 4 \n",
      "5 5 5 5 5 \n"
     ]
    }
   ],
   "source": [
    "x = 5  \n",
    "i = 1\n",
    "while i <= x:\n",
    "    j = 1\n",
    "    while j <= i:\n",
    "        print(i, end=\" \")\n",
    "        j = j + 1\n",
    "    print()\n",
    "    i = i + 1\n",
    "\n"
   ]
  },
  {
   "cell_type": "markdown",
   "metadata": {},
   "source": [
    "# pattern2"
   ]
  },
  {
   "cell_type": "code",
   "execution_count": 6,
   "metadata": {},
   "outputs": [
    {
     "name": "stdout",
     "output_type": "stream",
     "text": [
      "     1 \n",
      "    2 2 \n",
      "   3 3 3 \n",
      "  4 4 4 4 \n",
      " 5 5 5 5 5 \n"
     ]
    }
   ],
   "source": [
    "n=5                    \n",
    "i=1\n",
    "while i<=n:\n",
    "    print(\" \"*(n-i),end=\" \")\n",
    "    j=1\n",
    "    while j<=i:\n",
    "        print(i,end=\" \")\n",
    "        j=j+1\n",
    "    print()\n",
    "    i=i+1\n",
    "     \n"
   ]
  },
  {
   "cell_type": "markdown",
   "metadata": {},
   "source": [
    "# pattern3"
   ]
  },
  {
   "cell_type": "code",
   "execution_count": 8,
   "metadata": {},
   "outputs": [
    {
     "name": "stdout",
     "output_type": "stream",
     "text": [
      "5 \n",
      "5 4 \n",
      "5 4 3 \n",
      "5 4 3 2 \n",
      "5 4 3 2 1 \n"
     ]
    }
   ],
   "source": [
    "x=6              \n",
    "i=1\n",
    "while i<x:\n",
    "    j=1\n",
    "    while j<=i:\n",
    "        print((x-j),end=\" \")\n",
    "        j=j+1\n",
    "    print()\n",
    "    i=i+1\n",
    "\n"
   ]
  },
  {
   "cell_type": "markdown",
   "metadata": {},
   "source": [
    "# pattern4"
   ]
  },
  {
   "cell_type": "code",
   "execution_count": 10,
   "metadata": {},
   "outputs": [
    {
     "name": "stdout",
     "output_type": "stream",
     "text": [
      "\n",
      "1 \n",
      "1 2 \n",
      "1 2 3 \n",
      "1 2 3 4 \n",
      "1 2 3 4 5 \n"
     ]
    }
   ],
   "source": [
    "x=5                   \n",
    "i=0\n",
    "while i<=x:\n",
    "    j=1\n",
    "    while j<=i:\n",
    "        print((j),end=\" \")\n",
    "        j=j+1\n",
    "    print()\n",
    "    i=i+1\n"
   ]
  },
  {
   "cell_type": "markdown",
   "metadata": {},
   "source": [
    "# pattern5"
   ]
  },
  {
   "cell_type": "code",
   "execution_count": 12,
   "metadata": {},
   "outputs": [
    {
     "name": "stdout",
     "output_type": "stream",
     "text": [
      "         * \n",
      "       * * * \n",
      "     * * * * * \n",
      "   * * * * * * * \n",
      " * * * * * * * * * \n"
     ]
    }
   ],
   "source": [
    "n=10\n",
    "i = 0\n",
    "while i<n:\n",
    "    k=(n-i)\n",
    "    while k>1:\n",
    "        print(\" \", end=\"\")\n",
    "        k=k-1\n",
    "    j=i+1\n",
    "    while j>0:\n",
    "        print(\"*\", end=\" \")\n",
    "        j=j-1\n",
    "    print()\n",
    "    i=i+2\n",
    "         \n"
   ]
  },
  {
   "cell_type": "markdown",
   "metadata": {},
   "source": [
    "# pattern5"
   ]
  },
  {
   "cell_type": "code",
   "execution_count": 14,
   "metadata": {},
   "outputs": [
    {
     "name": "stdout",
     "output_type": "stream",
     "text": [
      "     *      \n",
      "    ***     \n",
      "   *****    \n",
      "  *******   \n",
      " *********  \n"
     ]
    }
   ],
   "source": [
    "n=9\n",
    "i=1\n",
    "while i<=n:\n",
    "    v=str(i*\"*\")\n",
    "    print(v.center(12,\" \"))\n",
    "    i=i+2\n"
   ]
  },
  {
   "cell_type": "markdown",
   "metadata": {},
   "source": [
    "# pattern6"
   ]
  },
  {
   "cell_type": "code",
   "execution_count": 16,
   "metadata": {},
   "outputs": [
    {
     "name": "stdout",
     "output_type": "stream",
     "text": [
      " *********  \n",
      "  *******   \n",
      "   *****    \n",
      "    ***     \n",
      "     *      \n"
     ]
    }
   ],
   "source": [
    "n=1\n",
    "i=9\n",
    "while i>=n:\n",
    "    v=str(i*\"*\")\n",
    "    print(v.center(12,\" \"))\n",
    "    i=i-2\n",
    "   \n"
   ]
  },
  {
   "cell_type": "markdown",
   "metadata": {},
   "source": [
    "# pattern7"
   ]
  },
  {
   "cell_type": "code",
   "execution_count": 18,
   "metadata": {},
   "outputs": [
    {
     "name": "stdout",
     "output_type": "stream",
     "text": [
      "1 \n",
      "1 2 \n",
      "1 2 3 \n",
      "1 2 3 4 \n",
      "1 2 3 4 5 \n"
     ]
    }
   ],
   "source": [
    "x=6           \n",
    "i=1\n",
    "while i<x:\n",
    "    k=(n-i)\n",
    "    while k>1:\n",
    "        print(\" \", end=\"\")\n",
    "        k=k-1\n",
    "    j=1\n",
    "    while j<=i:\n",
    "        print(j,end=\" \")\n",
    "        j=j+1\n",
    "    print()\n",
    "    i=i+1\n",
    "        \n"
   ]
  },
  {
   "cell_type": "markdown",
   "metadata": {},
   "source": [
    "# pattern8"
   ]
  },
  {
   "cell_type": "code",
   "execution_count": 20,
   "metadata": {},
   "outputs": [
    {
     "name": "stdout",
     "output_type": "stream",
     "text": [
      "5 4 3 2 1 \n",
      "5 4 3 2 \n",
      "5 4 3 \n",
      "5 4 \n",
      "5 \n"
     ]
    }
   ],
   "source": [
    "n=5                    \n",
    "i=1\n",
    "while i<=n:\n",
    "    j=n\n",
    "    while j>=i:\n",
    "        print((j),end=\" \")\n",
    "        j=j-1\n",
    "    print()\n",
    "    i=i+1\n"
   ]
  },
  {
   "cell_type": "markdown",
   "metadata": {},
   "source": [
    "# pattern9"
   ]
  },
  {
   "cell_type": "code",
   "execution_count": 22,
   "metadata": {},
   "outputs": [
    {
     "name": "stdout",
     "output_type": "stream",
     "text": [
      "1 2 3 4 5 \n",
      "1 2 3 4 \n",
      "1 2 3 \n",
      "1 2 \n",
      "1 \n",
      "\n"
     ]
    }
   ],
   "source": [
    "n=6                 \n",
    "i=1\n",
    "while i<=n:\n",
    "    j=n-1\n",
    "    while j>=i:\n",
    "        print((n-j),end=\" \")\n",
    "        j=j-1\n",
    "    print()\n",
    "    i=i+1\n"
   ]
  },
  {
   "cell_type": "markdown",
   "metadata": {},
   "source": [
    "# pattern10"
   ]
  },
  {
   "cell_type": "code",
   "execution_count": 24,
   "metadata": {},
   "outputs": [
    {
     "name": "stdout",
     "output_type": "stream",
     "text": [
      "      A \n",
      "     A B \n",
      "    A B C \n",
      "   A B C D \n",
      "  A B C D E \n"
     ]
    }
   ],
   "source": [
    "i=0               \n",
    "n=5\n",
    "while i<n:\n",
    "    print(\" \"*(n-i),end=\" \")\n",
    "    j=0\n",
    "    while j-1<i:\n",
    "        print(chr(65+j),end=\" \")\n",
    "        j=j+1\n",
    "    print()\n",
    "    i=i+1\n"
   ]
  },
  {
   "cell_type": "markdown",
   "metadata": {},
   "source": [
    "# pattern11"
   ]
  },
  {
   "cell_type": "code",
   "execution_count": 26,
   "metadata": {},
   "outputs": [
    {
     "name": "stdout",
     "output_type": "stream",
     "text": [
      "      A \n",
      "     B B \n",
      "    C C C \n",
      "   D D D D \n",
      "  E E E E E \n"
     ]
    }
   ],
   "source": [
    "i=0            \n",
    "n=5\n",
    "while i<n:\n",
    "    print(\" \"*(n-i),end=\" \")\n",
    "    j=0\n",
    "    while j-1<i:\n",
    "        print(chr(65+i),end=\" \")\n",
    "        j=j+1\n",
    "    print()\n",
    "    i=i+1\n"
   ]
  },
  {
   "cell_type": "markdown",
   "metadata": {},
   "source": [
    "# pattern12"
   ]
  },
  {
   "cell_type": "code",
   "execution_count": 28,
   "metadata": {},
   "outputs": [
    {
     "name": "stdout",
     "output_type": "stream",
     "text": [
      "A \n",
      "B B \n",
      "C C C \n",
      "D D D D \n",
      "E E E E E \n"
     ]
    }
   ],
   "source": [
    "i=1                          \n",
    "x=5\n",
    "while i<=x:\n",
    "    j=1\n",
    "    while j<=i:\n",
    "        print(chr(64+i),end=\" \")\n",
    "        j=j+1\n",
    "    print()\n",
    "    i=i+1\n"
   ]
  },
  {
   "cell_type": "markdown",
   "metadata": {},
   "source": [
    "# pattern13"
   ]
  },
  {
   "cell_type": "code",
   "execution_count": 30,
   "metadata": {},
   "outputs": [
    {
     "name": "stdout",
     "output_type": "stream",
     "text": [
      "A \n",
      "A B \n",
      "A B C \n",
      "A B C D \n",
      "A B C D E \n"
     ]
    }
   ],
   "source": [
    "i=1                  \n",
    "x=5\n",
    "while i<=x:\n",
    "    j=1\n",
    "    while j<=i:\n",
    "        print(chr(64+j),end=\" \")\n",
    "        j=j+1\n",
    "    print()\n",
    "    i=i+1\n"
   ]
  },
  {
   "cell_type": "markdown",
   "metadata": {},
   "source": [
    "# pattern14"
   ]
  },
  {
   "cell_type": "code",
   "execution_count": 32,
   "metadata": {},
   "outputs": [
    {
     "name": "stdout",
     "output_type": "stream",
     "text": [
      "      E \n",
      "     E D \n",
      "    E D C \n",
      "   E D C B \n",
      "  E D C B A \n"
     ]
    }
   ],
   "source": [
    "i=0\n",
    "n=5\n",
    "while i<n:\n",
    "    print(\" \"*(n-i),end=\" \")\n",
    "    j=0\n",
    "    while j-1<i:\n",
    "        print(chr(69-j),end=\" \")\n",
    "        j=j+1\n",
    "    print()\n",
    "    i=i+1\n"
   ]
  },
  {
   "cell_type": "markdown",
   "metadata": {},
   "source": [
    "# pattern15"
   ]
  },
  {
   "cell_type": "code",
   "execution_count": 34,
   "metadata": {},
   "outputs": [
    {
     "name": "stdout",
     "output_type": "stream",
     "text": [
      "A B C D E \n",
      "A B C D \n",
      "A B C \n",
      "A B \n",
      "A \n"
     ]
    }
   ],
   "source": [
    "n=5                         \n",
    "i=1\n",
    "while i<=n:\n",
    "    j=n\n",
    "    while j>=i:\n",
    "        print(chr(70-j),end=\" \")\n",
    "        j=j-1\n",
    "    print()\n",
    "    i=i+1"
   ]
  },
  {
   "cell_type": "markdown",
   "metadata": {},
   "source": [
    "# pattern16"
   ]
  },
  {
   "cell_type": "code",
   "execution_count": 36,
   "metadata": {},
   "outputs": [
    {
     "name": "stdout",
     "output_type": "stream",
     "text": [
      "\n",
      "1 \n",
      "2 3 \n",
      "4 5 6 \n",
      "7 8 9 10 \n",
      "11 12 13 14 15 \n"
     ]
    }
   ],
   "source": [
    "n=6          \n",
    "i=1\n",
    "k=1\n",
    "while i<=n:\n",
    "    j=1\n",
    "    while j<i:\n",
    "        print(k,end=\" \")\n",
    "        j=j+1\n",
    "        k=k+1\n",
    "    print()\n",
    "    i=i+1\n"
   ]
  },
  {
   "cell_type": "markdown",
   "metadata": {},
   "source": [
    "# pattern17"
   ]
  },
  {
   "cell_type": "code",
   "execution_count": 38,
   "metadata": {},
   "outputs": [
    {
     "name": "stdout",
     "output_type": "stream",
     "text": [
      "\n",
      "1 \n",
      "2 3 \n",
      "4 5 6 \n",
      "7 8 9 10 \n",
      "11 12 13 14 15 \n"
     ]
    }
   ],
   "source": [
    "n=6          \n",
    "i=1\n",
    "k=1\n",
    "while i<=n:\n",
    "    j=1\n",
    "    while j<i:\n",
    "        print(k,end=\" \")\n",
    "        j=j+1\n",
    "        k=k+1\n",
    "    print()\n",
    "    i=i+1\n"
   ]
  },
  {
   "cell_type": "markdown",
   "metadata": {},
   "source": [
    "# pattern18"
   ]
  },
  {
   "cell_type": "code",
   "execution_count": 40,
   "metadata": {},
   "outputs": [
    {
     "name": "stdout",
     "output_type": "stream",
     "text": [
      "* \n",
      "* * \n",
      "* * * \n",
      "* * * * \n"
     ]
    }
   ],
   "source": [
    "x=4\n",
    "i=1\n",
    "while i<=x:\n",
    "    j=1\n",
    "    while j<=i:\n",
    "        print(\"*\",end=\" \")\n",
    "        j=j+1\n",
    "    print()\n",
    "    i=i+1\n"
   ]
  },
  {
   "cell_type": "markdown",
   "metadata": {},
   "source": [
    "# pattern19"
   ]
  },
  {
   "cell_type": "code",
   "execution_count": 42,
   "metadata": {},
   "outputs": [
    {
     "name": "stdout",
     "output_type": "stream",
     "text": [
      "         *\n",
      "       * *\n",
      "     * * *\n",
      "   * * * *\n"
     ]
    }
   ],
   "source": [
    "n=4\n",
    "i = 0\n",
    "while i<n:\n",
    "    k=(n-i)\n",
    "    while k>0:\n",
    "        print(\"  \", end=\"\")\n",
    "        k=k-1\n",
    "    j=i+1\n",
    "    while j>0:\n",
    "        print(\" *\",end=\"\")\n",
    "        j=j-1\n",
    "    print()\n",
    "    i=i+1"
   ]
  },
  {
   "cell_type": "markdown",
   "metadata": {},
   "source": [
    "# pattern20"
   ]
  },
  {
   "cell_type": "code",
   "execution_count": 44,
   "metadata": {},
   "outputs": [
    {
     "name": "stdout",
     "output_type": "stream",
     "text": [
      "     *\n",
      "    * *\n",
      "   *   *\n",
      "  *     *\n",
      " * * * * *\n"
     ]
    }
   ],
   "source": [
    "i=0\n",
    "n=5\n",
    "while i<5:\n",
    "    if i==0:\n",
    "        print(\" \"*(n-i)+\"*\")\n",
    "    elif i==4:\n",
    "        print(\" *\"*(i+1))\n",
    "    else:\n",
    "        print(\" \"*(4-i)+\" *\"+\" \"*((i*2)-1)+\"*\")\n",
    "    i=i+1\n"
   ]
  },
  {
   "cell_type": "markdown",
   "metadata": {},
   "source": [
    "# pattern21"
   ]
  },
  {
   "cell_type": "code",
   "execution_count": 46,
   "metadata": {},
   "outputs": [
    {
     "name": "stdout",
     "output_type": "stream",
     "text": [
      " * * * * *\n",
      "  *     *\n",
      "   *   *\n",
      "    * *\n",
      "     *\n"
     ]
    }
   ],
   "source": [
    "i=0\n",
    "n=5\n",
    "while i<5:\n",
    "    if i==0:\n",
    "        print(\" *\"*(n))\n",
    "    elif i==4:\n",
    "        print(\" \"*i+\" *\")\n",
    "    else:\n",
    "        print(\" \"*(i+1)+\"*\"+\" \"*(((4-i)*2-1))+\"*\")\n",
    "    i=i+1\n",
    "    "
   ]
  },
  {
   "cell_type": "markdown",
   "metadata": {},
   "source": [
    "# pattern22"
   ]
  },
  {
   "cell_type": "code",
   "execution_count": 48,
   "metadata": {},
   "outputs": [
    {
     "name": "stdout",
     "output_type": "stream",
     "text": [
      "***** \n",
      "**** \n",
      "*** \n",
      "** \n",
      "* \n",
      "** \n",
      "*** \n",
      "**** \n",
      "***** \n"
     ]
    }
   ],
   "source": [
    "i=0\n",
    "n=8\n",
    "while i<=n:\n",
    "    if i==0:\n",
    "        print(\"*\"*(n-3)+\" \")\n",
    "    elif i==1 or i==2 or i==3:\n",
    "        print(\"*\"*(5-i)+\" \")\n",
    "    else:\n",
    "        print(\"*\"*(i-3)+\" \")\n",
    "    i=i+1"
   ]
  },
  {
   "cell_type": "markdown",
   "metadata": {},
   "source": [
    "# pattern23"
   ]
  },
  {
   "cell_type": "code",
   "execution_count": 50,
   "metadata": {},
   "outputs": [
    {
     "name": "stdout",
     "output_type": "stream",
     "text": [
      "     *\n",
      "    * *\n",
      "   *   *\n",
      "  *     *\n",
      " *       * \n",
      "  *     * \n",
      "   *   * \n",
      "    * * \n",
      "     *\n"
     ]
    }
   ],
   "source": [
    "i=0\n",
    "n=9\n",
    "while i<n:\n",
    "    if i==0:\n",
    "        print(\" \"*(n-4)+\"*\")\n",
    "    elif i==1 or i==2 or i==3:\n",
    "        print(\" \"*(4-i)+\" *\"+\" \"*((i*2)-1)+\"*\")\n",
    "    elif i==8:\n",
    "        print(\" \"*(i-3)+\"*\")\n",
    "    else:\n",
    "        print(\" \"*(i-3)+\"*\"+\" \"*((8-i)*2-1)+\"* \")\n",
    "    i=i+1"
   ]
  },
  {
   "cell_type": "markdown",
   "metadata": {},
   "source": [
    "# pattern24"
   ]
  },
  {
   "cell_type": "code",
   "execution_count": 52,
   "metadata": {},
   "outputs": [
    {
     "name": "stdout",
     "output_type": "stream",
     "text": [
      "*\n",
      "**\n",
      "* *\n",
      "*  *\n",
      "*****\n"
     ]
    }
   ],
   "source": [
    "i=1\n",
    "x=4\n",
    "while i<=x+1:\n",
    "    if i<=2 or i==5:\n",
    "        print((i)*\"*\")\n",
    "    else:\n",
    "        print(\"*\"+(i-2)*\" \"+\"*\")\n",
    "    i=i+1\n"
   ]
  },
  {
   "cell_type": "markdown",
   "metadata": {},
   "source": [
    "# pattern25"
   ]
  },
  {
   "cell_type": "code",
   "execution_count": 54,
   "metadata": {},
   "outputs": [
    {
     "name": "stdout",
     "output_type": "stream",
     "text": [
      "*****\n",
      "*  *\n",
      "* *\n",
      "**\n",
      "*"
     ]
    }
   ],
   "source": [
    "i=0\n",
    "n=5\n",
    "while i<n:\n",
    "    if i==0:\n",
    "        print(\"*\"*(n))\n",
    "    elif i==1 or i==2 or i==3:\n",
    "        print(\"*\"+\" \"*(3-i)+\"*\")\n",
    "    else:\n",
    "        print(\"*\",end=\"\")\n",
    "    i=i+1\n"
   ]
  },
  {
   "cell_type": "markdown",
   "metadata": {},
   "source": [
    "# pattern26"
   ]
  },
  {
   "cell_type": "code",
   "execution_count": 56,
   "metadata": {},
   "outputs": [
    {
     "name": "stdout",
     "output_type": "stream",
     "text": [
      "*            *\n",
      "**      **\n",
      "***    ***\n",
      "****  ****\n",
      "**********\n"
     ]
    }
   ],
   "source": [
    "x=5\n",
    "i=0\n",
    "while i<x:\n",
    "    j=0\n",
    "    while j<=i:\n",
    "        print(\"*\",end=\"\")\n",
    "        j=j+1\n",
    "    k=(n-i)\n",
    "    while k>1:\n",
    "        print(\" \", end=\"\")\n",
    "        k=k-1\n",
    "    n=x-i\n",
    "    while n>1:\n",
    "        print(\"  \",end=\"\")\n",
    "        n=n-1\n",
    "    m=0\n",
    "    while m<=i:\n",
    "        print(\"*\",end=\"\")\n",
    "        m=m+1\n",
    "        \n",
    "    print(\"\")\n",
    "    i=i+1\n"
   ]
  },
  {
   "cell_type": "markdown",
   "metadata": {},
   "source": [
    "# pattern27"
   ]
  },
  {
   "cell_type": "code",
   "execution_count": 58,
   "metadata": {},
   "outputs": [
    {
     "name": "stdout",
     "output_type": "stream",
     "text": [
      "*****\n",
      "*  *\n",
      "* *\n",
      "**\n",
      "*"
     ]
    }
   ],
   "source": [
    "i=2\n",
    "x=5\n",
    "while i<=x:\n",
    "    if i==2:\n",
    "        print(x*\"*\")\n",
    "    else:\n",
    "        print((x-i)*\" \"+\"*\")\n",
    "    i=i+1\n",
    "    print(end=\"*\")"
   ]
  },
  {
   "cell_type": "markdown",
   "metadata": {},
   "source": [
    "# pattern28"
   ]
  },
  {
   "cell_type": "code",
   "execution_count": 60,
   "metadata": {},
   "outputs": [
    {
     "name": "stdout",
     "output_type": "stream",
     "text": [
      "*********\n",
      "**** ****\n",
      "***   ***\n",
      "**     **\n",
      "*       *\n"
     ]
    }
   ],
   "source": [
    "n=7\n",
    "i=-1\n",
    "while n>=i:\n",
    "    v=str(i*\" \")\n",
    "    print(v.center(9,\"*\"))\n",
    "    i=i+2"
   ]
  },
  {
   "cell_type": "markdown",
   "metadata": {},
   "source": [
    "# pattern29"
   ]
  },
  {
   "cell_type": "code",
   "execution_count": 62,
   "metadata": {},
   "outputs": [
    {
     "name": "stdout",
     "output_type": "stream",
     "text": [
      "        *\n",
      "       **\n",
      "      ***\n",
      "     ****\n",
      "    *****\n",
      "     ****\n",
      "      ***\n",
      "       **\n",
      "        *\n"
     ]
    }
   ],
   "source": [
    "x=9\n",
    "i=1\n",
    "while x>=i:\n",
    "    if i==1 or i==2 or i==3 or i==4 :\n",
    "        print(\" \"*(x-i)+(i)*\"*\")\n",
    "    elif i==5 or i==6 or i==7 or i==8 or i==9:\n",
    "        print(\" \"*(i-1)+\"*\"*(10-i))\n",
    "    else:\n",
    "        print()\n",
    "    i=i+1"
   ]
  },
  {
   "cell_type": "markdown",
   "metadata": {},
   "source": [
    "# pattern30\n"
   ]
  },
  {
   "cell_type": "code",
   "execution_count": 64,
   "metadata": {},
   "outputs": [
    {
     "name": "stdout",
     "output_type": "stream",
     "text": [
      "*\n",
      "**\n",
      "***\n",
      "****\n",
      "*****\n",
      "****\n",
      "***\n",
      "**\n",
      "*\n"
     ]
    }
   ],
   "source": [
    "x=9\n",
    "i=1\n",
    "while x>=i:\n",
    "    if i==1 or i==2 or i==3 or i==4:\n",
    "        print((i)*\"*\")\n",
    "    elif i==5 or i==6 or i==7 or i==8 or i==9:\n",
    "        print(\"*\"*(11-(i+1)))\n",
    "    else:\n",
    "        print()\n",
    "    i=i+1"
   ]
  },
  {
   "cell_type": "markdown",
   "metadata": {},
   "source": [
    "# pattern31"
   ]
  },
  {
   "cell_type": "code",
   "execution_count": 66,
   "metadata": {},
   "outputs": [
    {
     "name": "stdout",
     "output_type": "stream",
     "text": [
      " *********  \n",
      "  *******   \n",
      "   *****    \n",
      "    ***     \n",
      "     *      \n",
      "    ***     \n",
      "   *****    \n",
      "  *******   \n",
      " *********  \n"
     ]
    }
   ],
   "source": [
    "n=1\n",
    "i=9\n",
    "while i>=n:\n",
    "    v=str(i*\"*\")\n",
    "    print(v.center(12,\" \"))\n",
    "    i=i-2\n",
    "    if i<=-1:\n",
    "        x=10\n",
    "        j=n+2\n",
    "        while j<=x:\n",
    "            y=str(j*\"*\")\n",
    "            print(y.center(12,\" \"))\n",
    "            j=j+2"
   ]
  },
  {
   "cell_type": "markdown",
   "metadata": {},
   "source": [
    "# pattern32"
   ]
  },
  {
   "cell_type": "code",
   "execution_count": 68,
   "metadata": {},
   "outputs": [
    {
     "name": "stdout",
     "output_type": "stream",
     "text": [
      "*****\n",
      "*  *\n",
      "* *\n",
      "**\n",
      "*\n",
      "**\n",
      "* *\n",
      "*  *\n",
      "*****\n"
     ]
    }
   ],
   "source": [
    "n=9\n",
    "i=1\n",
    "while i<=n:\n",
    "    if i==2 or i==3 or i==4:\n",
    "        print(\"*\"+\" \"*(n-(i+5))+\"*\")\n",
    "    elif i==1 or i==9:\n",
    "        print(\"*\"*(5))\n",
    "    elif i==5:\n",
    "        print(\"*\")\n",
    "    else:\n",
    "        print(\"*\"+\" \"*(i-6)+\"*\")\n",
    "    i=i+1"
   ]
  },
  {
   "cell_type": "markdown",
   "metadata": {},
   "source": [
    "# pattern33"
   ]
  },
  {
   "cell_type": "code",
   "execution_count": 70,
   "metadata": {},
   "outputs": [
    {
     "name": "stdout",
     "output_type": "stream",
     "text": [
      "   *****\n",
      "    *  *\n",
      "     * *\n",
      "      **\n",
      "       *\n",
      "      **\n",
      "     * *\n",
      "    *  *\n",
      "   *****\n"
     ]
    }
   ],
   "source": [
    "n=9\n",
    "i=1\n",
    "while i<=n:\n",
    "    if i==2 or i==3 or i==4:\n",
    "        print(\" \"*(i+2)+\"*\"+(4-i)*\" \"+\"*\")\n",
    "    elif i==1:\n",
    "        print(\" \"*(4-i)+\"*\"*(n-4))\n",
    "    elif i==5:\n",
    "        print(\" \"*(7)+\"*\")\n",
    "    elif i==6 or i==7 or i==8:\n",
    "        print(\" \"*(n-(i-3))+\"*\"+\" \"*(i-6)+\"*\")\n",
    "    elif i==9:\n",
    "        print(\" \"*(3)+\"*\"*5)\n",
    "    else:\n",
    "        print()\n",
    "    i=i+1"
   ]
  },
  {
   "cell_type": "markdown",
   "metadata": {},
   "source": [
    "# pattern34"
   ]
  },
  {
   "cell_type": "code",
   "execution_count": 72,
   "metadata": {},
   "outputs": [
    {
     "name": "stdout",
     "output_type": "stream",
     "text": [
      "*       *\n",
      "**     **\n",
      "***   ***\n",
      "**** ****\n",
      "*********\n",
      "**** ****\n",
      "***   ***\n",
      "**     **\n",
      "*       *\n"
     ]
    }
   ],
   "source": [
    "n=-1\n",
    "i=7\n",
    "while i>=n:\n",
    "    v=str(i*\" \")\n",
    "    print(v.center(9,\"*\"))\n",
    "    i=i-2\n",
    "    if i<=-2:\n",
    "        x=7\n",
    "        j=1\n",
    "        while j<=x:\n",
    "            y=str(j*\" \")\n",
    "            print(y.center(9,\"*\"))\n",
    "            j=j+2\n"
   ]
  },
  {
   "cell_type": "markdown",
   "metadata": {},
   "source": [
    "# pattern35"
   ]
  },
  {
   "cell_type": "code",
   "execution_count": 74,
   "metadata": {},
   "outputs": [
    {
     "name": "stdout",
     "output_type": "stream",
     "text": [
      "**********\n",
      " *      *\n",
      "  *    *\n",
      "   *  *\n",
      "     *\n",
      "   *  *\n",
      "  *    *\n",
      " *      *\n",
      "**********\n"
     ]
    }
   ],
   "source": [
    "n=9\n",
    "i=1\n",
    "while i<=n:\n",
    "    if i==1 or i==9:\n",
    "        print(\"*\"*(n+1))\n",
    "    elif i==2 or i==3  or i==4:\n",
    "        print(\" \"*(i-1)+\"*\"+\"  \"*(5-i)+\"*\")\n",
    "    elif i==5:\n",
    "        print(\" \"*(i)+\"*\")\n",
    "    else:\n",
    "        print(\" \"*(n-i)+\"*\"+\"  \"*(i-5)+\"*\")\n",
    "    i=i+1"
   ]
  },
  {
   "cell_type": "markdown",
   "metadata": {},
   "source": [
    "# pattern36"
   ]
  },
  {
   "cell_type": "code",
   "execution_count": 76,
   "metadata": {},
   "outputs": [
    {
     "name": "stdout",
     "output_type": "stream",
     "text": [
      "*********\n",
      "**** ****\n",
      "***   ***\n",
      "**     **\n",
      "*       *\n",
      "*       *\n",
      "**     **\n",
      "***   ***\n",
      "**** ****\n",
      "*********\n"
     ]
    }
   ],
   "source": [
    "n=7\n",
    "i=-1\n",
    "while i<=n:\n",
    "    v=str(i*\" \")\n",
    "    print(v.center(9,\"*\"))\n",
    "    i=i+2\n",
    "    if i==9:\n",
    "        j=7\n",
    "        x=-1\n",
    "        while j>=x:\n",
    "            y=str(j*\" \")\n",
    "            print(y.center(9,\"*\"))\n",
    "            j=j-2"
   ]
  },
  {
   "cell_type": "markdown",
   "metadata": {},
   "source": [
    "# pattern37"
   ]
  },
  {
   "cell_type": "code",
   "execution_count": 78,
   "metadata": {},
   "outputs": [
    {
     "name": "stdout",
     "output_type": "stream",
     "text": [
      "*       *\n",
      "**     **\n",
      "***   ***\n",
      "**** ****\n",
      "*********\n",
      "**** ****\n",
      "***   ***\n",
      "**     **\n",
      "*       *\n"
     ]
    }
   ],
   "source": [
    "n=-1\n",
    "i=7\n",
    "while i>=n:\n",
    "    v=str(i*\" \")\n",
    "    print(v.center(9,\"*\"))\n",
    "    i=i-2\n",
    "    if i<=-2:\n",
    "        x=7\n",
    "        j=1\n",
    "        while j<=x:\n",
    "            y=str(j*\" \")\n",
    "            print(y.center(9,\"*\"))\n",
    "            j=j+2\n"
   ]
  },
  {
   "cell_type": "markdown",
   "metadata": {},
   "source": [
    "# pattern38"
   ]
  },
  {
   "cell_type": "code",
   "execution_count": 80,
   "metadata": {},
   "outputs": [
    {
     "name": "stdout",
     "output_type": "stream",
     "text": [
      "**********\n",
      " *      *\n",
      "  *    *\n",
      "   *  *\n",
      "     *\n",
      "   *  *\n",
      "  *    *\n",
      " *      *\n",
      "**********\n"
     ]
    }
   ],
   "source": [
    "n=9\n",
    "i=1\n",
    "while i<=n:\n",
    "    if i==1 or i==9:\n",
    "        print(\"*\"*(n+1))\n",
    "    elif i==2 or i==3  or i==4:\n",
    "        print(\" \"*(i-1)+\"*\"+\"  \"*(5-i)+\"*\")\n",
    "    elif i==5:\n",
    "        print(\" \"*(i)+\"*\")\n",
    "    else:\n",
    "        print(\" \"*(n-i)+\"*\"+\"  \"*(i-5)+\"*\")\n",
    "    i=i+1\n"
   ]
  },
  {
   "cell_type": "markdown",
   "metadata": {},
   "source": [
    "# pattern39"
   ]
  },
  {
   "cell_type": "code",
   "execution_count": 82,
   "metadata": {},
   "outputs": [
    {
     "name": "stdout",
     "output_type": "stream",
     "text": [
      "******\n",
      "******\n",
      "******\n",
      "******\n",
      "******\n"
     ]
    }
   ],
   "source": [
    "n=6\n",
    "i=1\n",
    "while i<=n:\n",
    "    if i==1 or i==2 or i==3 or i==4 or i==6:\n",
    "        print(\"*\"*n)\n",
    "    i=i+1"
   ]
  },
  {
   "cell_type": "markdown",
   "metadata": {},
   "source": [
    "# pattern40"
   ]
  },
  {
   "cell_type": "code",
   "execution_count": 84,
   "metadata": {},
   "outputs": [
    {
     "name": "stdout",
     "output_type": "stream",
     "text": [
      "**********\n",
      "****  ****\n",
      "***    ***\n",
      "**      **\n",
      "*        *\n",
      "*        *\n",
      "**      **\n",
      "***    ***\n",
      "****  ****\n",
      "**********\n"
     ]
    }
   ],
   "source": [
    "n=10\n",
    "i=1\n",
    "while i<=n:\n",
    "    if i==1 or i==10:\n",
    "        print(\"*\"*(n))\n",
    "    elif i==1 or i==2 or i==3 or i==4 or i==5:\n",
    "        print(\"*\"*((n-4)-i)+\"  \"*(i-1)+\"*\"*(6-i))\n",
    "    else:\n",
    "        print(\"*\"*(i-5)+\"  \"*(n-i)+\"*\"*(i-5))\n",
    "    i=i+1"
   ]
  },
  {
   "cell_type": "code",
   "execution_count": null,
   "metadata": {},
   "outputs": [],
   "source": []
  }
 ],
 "metadata": {
  "hide_input": false,
  "kernelspec": {
   "display_name": "Python 3",
   "language": "python",
   "name": "python3"
  },
  "language_info": {
   "codemirror_mode": {
    "name": "ipython",
    "version": 3
   },
   "file_extension": ".py",
   "mimetype": "text/x-python",
   "name": "python",
   "nbconvert_exporter": "python",
   "pygments_lexer": "ipython3",
   "version": "3.8.5"
  },
  "toc": {
   "base_numbering": 1,
   "nav_menu": {},
   "number_sections": true,
   "sideBar": true,
   "skip_h1_title": false,
   "title_cell": "Table of Contents",
   "title_sidebar": "Contents",
   "toc_cell": false,
   "toc_position": {},
   "toc_section_display": true,
   "toc_window_display": false
  }
 },
 "nbformat": 4,
 "nbformat_minor": 4
}
